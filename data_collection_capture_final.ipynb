{
 "cells": [
  {
   "cell_type": "markdown",
   "metadata": {},
   "source": [
    "# Collecting Training Data\n",
    "\n",
    "## Image Capture and Wheel Speed Recording"
   ]
  },
  {
   "cell_type": "markdown",
   "metadata": {},
   "source": [
    "Training step 3: Run all cells in this notebook. This will start the recording of training data. \n",
    "Once the last cell starts (with the while loop), switch back to \"training control\" notebook to control the robot around the track."
   ]
  },
  {
   "cell_type": "code",
   "execution_count": 1,
   "metadata": {},
   "outputs": [],
   "source": [
    "import easygopigo3 as easy\n",
    "import numpy as np\n",
    "from PIL import Image\n",
    "import os\n",
    "import pandas as pd\n",
    "from time import sleep\n",
    "from picamera import PiCamera"
   ]
  },
  {
   "cell_type": "markdown",
   "metadata": {},
   "source": [
    "Initialize the GoPiGo object and the camera object"
   ]
  },
  {
   "cell_type": "code",
   "execution_count": 2,
   "metadata": {},
   "outputs": [],
   "source": [
    "gpg = easy.EasyGoPiGo3()\n",
    "\n",
    "camera = PiCamera()\n",
    "camera.resolution = (128, 128)\n",
    "sleep(2)"
   ]
  },
  {
   "cell_type": "markdown",
   "metadata": {},
   "source": [
    "Set counters to start a new training session"
   ]
  },
  {
   "cell_type": "code",
   "execution_count": 3,
   "metadata": {},
   "outputs": [],
   "source": [
    "d = 0\n",
    "angles = []"
   ]
  },
  {
   "cell_type": "markdown",
   "metadata": {},
   "source": [
    "The while loop records the speed of each motor, then captures and saves an image. \n",
    "Once trainingis complete, the user must stop the running cell. On the Keyboard Interrupt, the recorded wheel speeds are converted to a Pandas Dataframe and saved as a csv. "
   ]
  },
  {
   "cell_type": "code",
   "execution_count": 4,
   "metadata": {
    "collapsed": true
   },
   "outputs": [
    {
     "name": "stderr",
     "output_type": "stream",
     "text": [
      "ERROR:root:Internal Python error in the inspect module.\n",
      "Below is the traceback from this internal error.\n",
      "\n"
     ]
    },
    {
     "name": "stdout",
     "output_type": "stream",
     "text": [
      "Traceback (most recent call last):\n",
      "  File \"<ipython-input-4-95b81851aebb>\", line 11, in <module>\n",
      "    camera.capture(filename, use_video_port = True)\n",
      "  File \"/usr/lib/python3/dist-packages/picamera/camera.py\", line 1409, in capture\n",
      "    camera_port, output_port = self._get_ports(use_video_port, splitter_port)\n",
      "  File \"/usr/lib/python3/dist-packages/picamera/camera.py\", line 562, in _get_ports\n",
      "    'The camera is already using port %d ' % splitter_port)\n",
      "picamera.exc.PiCameraAlreadyRecording: The camera is already using port 0 \n",
      "\n",
      "During handling of the above exception, another exception occurred:\n",
      "\n",
      "Traceback (most recent call last):\n",
      "  File \"/usr/lib/python3/dist-packages/picamera/camera.py\", line 1196, in stop_recording\n",
      "    self.wait_recording(0, splitter_port)\n",
      "  File \"/usr/lib/python3/dist-packages/picamera/camera.py\", line 1167, in wait_recording\n",
      "    encoder.wait(timeout)\n",
      "  File \"/usr/lib/python3/dist-packages/picamera/encoders.py\", line 395, in wait\n",
      "    self.stop()\n",
      "  File \"/usr/lib/python3/dist-packages/picamera/encoders.py\", line 417, in stop\n",
      "    self.output_port.disable()\n",
      "  File \"/usr/lib/python3/dist-packages/picamera/mmalobj.py\", line 1268, in disable\n",
      "    super(MMALPort, self).disable()\n",
      "  File \"/usr/lib/python3/dist-packages/picamera/mmalobj.py\", line 814, in disable\n",
      "    prefix=\"Unable to disable port %s\" % self.name)\n",
      "  File \"/usr/lib/python3/dist-packages/picamera/mmalobj.py\", line 823, in name\n",
      "    result = self._port[0].name.decode('ascii')\n",
      "UnicodeDecodeError: 'ascii' codec can't decode byte 0x9d in position 0: ordinal not in range(128)\n",
      "\n",
      "During handling of the above exception, another exception occurred:\n",
      "\n",
      "Traceback (most recent call last):\n",
      "  File \"/home/pi/.local/lib/python3.5/site-packages/IPython/core/interactiveshell.py\", line 3267, in run_code\n",
      "    exec(code_obj, self.user_global_ns, self.user_ns)\n",
      "  File \"<ipython-input-4-95b81851aebb>\", line 21, in <module>\n",
      "    df.to_csv('train_wheel_speeds.csv')\n",
      "  File \"/usr/lib/python3/dist-packages/picamera/camera.py\", line 758, in __exit__\n",
      "    self.close()\n",
      "  File \"/usr/lib/python3/dist-packages/picamera/camera.py\", line 737, in close\n",
      "    self.stop_recording(splitter_port=port)\n",
      "  File \"/usr/lib/python3/dist-packages/picamera/camera.py\", line 1198, in stop_recording\n",
      "    encoder.close()\n",
      "  File \"/usr/lib/python3/dist-packages/picamera/encoders.py\", line 431, in close\n",
      "    self.stop()\n",
      "  File \"/usr/lib/python3/dist-packages/picamera/encoders.py\", line 417, in stop\n",
      "    self.output_port.disable()\n",
      "  File \"/usr/lib/python3/dist-packages/picamera/mmalobj.py\", line 1268, in disable\n",
      "    super(MMALPort, self).disable()\n",
      "  File \"/usr/lib/python3/dist-packages/picamera/mmalobj.py\", line 814, in disable\n",
      "    prefix=\"Unable to disable port %s\" % self.name)\n",
      "  File \"/usr/lib/python3/dist-packages/picamera/mmalobj.py\", line 823, in name\n",
      "    result = self._port[0].name.decode('ascii')\n",
      "UnicodeDecodeError: 'ascii' codec can't decode byte 0x9d in position 0: ordinal not in range(128)\n",
      "\n",
      "During handling of the above exception, another exception occurred:\n",
      "\n",
      "Traceback (most recent call last):\n",
      "  File \"/home/pi/.local/lib/python3.5/site-packages/IPython/core/interactiveshell.py\", line 2018, in showtraceback\n",
      "    stb = value._render_traceback_()\n",
      "AttributeError: 'UnicodeDecodeError' object has no attribute '_render_traceback_'\n",
      "\n",
      "During handling of the above exception, another exception occurred:\n",
      "\n",
      "Traceback (most recent call last):\n",
      "  File \"/home/pi/.local/lib/python3.5/site-packages/IPython/core/ultratb.py\", line 1095, in get_records\n",
      "    return _fixed_getinnerframes(etb, number_of_lines_of_context, tb_offset)\n",
      "  File \"/home/pi/.local/lib/python3.5/site-packages/IPython/core/ultratb.py\", line 313, in wrapped\n",
      "    return f(*args, **kwargs)\n",
      "  File \"/home/pi/.local/lib/python3.5/site-packages/IPython/core/ultratb.py\", line 347, in _fixed_getinnerframes\n",
      "    records = fix_frame_records_filenames(inspect.getinnerframes(etb, context))\n",
      "  File \"/usr/lib/python3.5/inspect.py\", line 1454, in getinnerframes\n",
      "    frameinfo = (tb.tb_frame,) + getframeinfo(tb, context)\n",
      "  File \"/usr/lib/python3.5/inspect.py\", line 1411, in getframeinfo\n",
      "    filename = getsourcefile(frame) or getfile(frame)\n",
      "  File \"/usr/lib/python3.5/inspect.py\", line 671, in getsourcefile\n",
      "    if getattr(getmodule(object, filename), '__loader__', None) is not None:\n",
      "  File \"/usr/lib/python3.5/inspect.py\", line 717, in getmodule\n",
      "    os.path.realpath(f)] = module.__name__\n",
      "  File \"/usr/lib/python3.5/posixpath.py\", line 373, in realpath\n",
      "    path, ok = _joinrealpath(filename[:0], filename, {})\n",
      "  File \"/usr/lib/python3.5/posixpath.py\", line 407, in _joinrealpath\n",
      "    if not islink(newpath):\n",
      "  File \"/usr/lib/python3.5/posixpath.py\", line 161, in islink\n",
      "    st = os.lstat(path)\n",
      "KeyboardInterrupt\n"
     ]
    },
    {
     "name": "stderr",
     "output_type": "stream",
     "text": [
      "\n",
      "KeyboardInterrupt\n",
      "\n"
     ]
    }
   ],
   "source": [
    "\n",
    "with camera as camera:\n",
    "    while True:\n",
    "        try:\n",
    "            \n",
    "            filename = \"training-images/train_img_%d.jpg\" %d\n",
    "            current_speed_right = gpg.get_motor_status(2)[3]\n",
    "            current_speed_left = gpg.get_motor_status(1)[3]\n",
    "            camera.capture(filename, use_video_port = True)\n",
    "            angles.append((current_speed_left,current_speed_right))\n",
    "            d += 1\n",
    "            sleep(.1)\n",
    "        except KeyboardInterrupt:\n",
    "            df = pd.DataFrame(angles)\n",
    "            if os.path.isfile('train_wheel_speeds.csv'):\n",
    "                os.remove('train_wheel_speeds.csv')\n",
    "            df.to_csv('train_wheel_speeds.csv')\n"
   ]
  }
 ],
 "metadata": {
  "kernelspec": {
   "display_name": "Python 3",
   "language": "python",
   "name": "python3"
  },
  "language_info": {
   "codemirror_mode": {
    "name": "ipython",
    "version": 3
   },
   "file_extension": ".py",
   "mimetype": "text/x-python",
   "name": "python",
   "nbconvert_exporter": "python",
   "pygments_lexer": "ipython3",
   "version": "3.5.3"
  }
 },
 "nbformat": 4,
 "nbformat_minor": 2
}
