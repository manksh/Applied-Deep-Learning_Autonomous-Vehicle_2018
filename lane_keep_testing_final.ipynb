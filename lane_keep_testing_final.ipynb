{
 "cells": [
  {
   "cell_type": "markdown",
   "metadata": {},
   "source": [
    "# Lane keeping Prediction"
   ]
  },
  {
   "cell_type": "markdown",
   "metadata": {},
   "source": [
    "In this notebook, we use a pre trained neural network from keras and use that to make on line predictions with our vehicle. Note that this notebook must be run on the vehicle. "
   ]
  },
  {
   "cell_type": "markdown",
   "metadata": {},
   "source": [
    "## Imports"
   ]
  },
  {
   "cell_type": "code",
   "execution_count": 1,
   "metadata": {},
   "outputs": [],
   "source": [
    "%%capture\n",
    "from tensorflow.train import AdamOptimizer\n",
    "from tensorflow.keras.models import model_from_json\n",
    "from PIL import Image\n",
    "import numpy as np\n",
    "import picamera\n",
    "import easygopigo3 as easy\n",
    "import time\n",
    "import cv2\n",
    "from utils import combinedThreshBinaryImg\n",
    "from utils import absSobelThresh"
   ]
  },
  {
   "cell_type": "markdown",
   "metadata": {},
   "source": [
    "## Load the trained model"
   ]
  },
  {
   "cell_type": "code",
   "execution_count": 2,
   "metadata": {},
   "outputs": [],
   "source": [
    "json_file = open('final_trained_model.json', 'r')\n",
    "loaded_model_json = json_file.read()\n",
    "json_file.close()\n",
    "loaded_model = model_from_json(loaded_model_json)\n",
    "loaded_model.load_weights(\"final_trained_model.h5\")\n",
    "loaded_model.compile(loss = 'mse', optimizer = AdamOptimizer())"
   ]
  },
  {
   "cell_type": "markdown",
   "metadata": {},
   "source": [
    "## Predicting on New Pictures"
   ]
  },
  {
   "cell_type": "markdown",
   "metadata": {},
   "source": [
    "#### Warm up the camera"
   ]
  },
  {
   "cell_type": "code",
   "execution_count": null,
   "metadata": {},
   "outputs": [],
   "source": [
    "#functions to drive vehicles\n",
    "my_gpg3 = easy.EasyGoPiGo3()\n",
    "camera = picamera.PiCamera()"
   ]
  },
  {
   "cell_type": "code",
   "execution_count": 5,
   "metadata": {},
   "outputs": [],
   "source": [
    "camera.resolution = (128, 128)\n",
    "time.sleep(2)\n",
    "motors = {'right':2, 'left':1}"
   ]
  },
  {
   "cell_type": "markdown",
   "metadata": {},
   "source": [
    "#### Predict"
   ]
  },
  {
   "cell_type": "code",
   "execution_count": null,
   "metadata": {},
   "outputs": [],
   "source": [
    "for i in range(100000):\n",
    "    camera.capture('test.jpg', use_video_port=True)\n",
    "    image = Image.open('test.jpg')\n",
    "    image = np.array(image)\n",
    "    image = image[60:,]\n",
    "    image = combinedThreshBinaryImg(image, threshX=(1, 255), \n",
    "                                                    threshY=(50, 255), \n",
    "                                                    threshColorS=(1,255), \n",
    "                                                    threshColorU=(250,250), \n",
    "                                                 threshColorR=(230,255))\n",
    "\n",
    "    image = image.reshape((1,68,128,1))\n",
    "    pred = loaded_model.predict(image)\n",
    "    left_speed = pred[0][0][0]\n",
    "    right_speed = pred[1][0][0]\n",
    "    current_speed_right = my_gpg3.set_motor_dps(motors['right'],right_speed)\n",
    "    current_speed_left = my_gpg3.set_motor_dps(motors['left'],left_speed)\n",
    "my_gpg3.stop()"
   ]
  },
  {
   "cell_type": "code",
   "execution_count": null,
   "metadata": {},
   "outputs": [],
   "source": [
    "my_gpg3.stop()"
   ]
  }
 ],
 "metadata": {
  "kernelspec": {
   "display_name": "Python 3",
   "language": "python",
   "name": "python3"
  },
  "language_info": {
   "codemirror_mode": {
    "name": "ipython",
    "version": 3
   },
   "file_extension": ".py",
   "mimetype": "text/x-python",
   "name": "python",
   "nbconvert_exporter": "python",
   "pygments_lexer": "ipython3",
   "version": "3.6.4"
  }
 },
 "nbformat": 4,
 "nbformat_minor": 2
}
