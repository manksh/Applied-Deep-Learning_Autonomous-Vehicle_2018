{
 "cells": [
  {
   "cell_type": "markdown",
   "metadata": {},
   "source": [
    "# Welcome to Your First Ride with the GoPiGo3"
   ]
  },
  {
   "cell_type": "markdown",
   "metadata": {},
   "source": [
    "Your first step is to load the libraries that will let you control the robot.\n",
    "\n",
    "Select the following cell, and press Shift-Enter to run it. "
   ]
  },
  {
   "cell_type": "code",
   "execution_count": 3,
   "metadata": {},
   "outputs": [],
   "source": [
    "from ipywidgets import widgets, Layout\n",
    "import easygopigo3 as easy\n",
    "import picamera\n",
    "import io\n",
    "from PIL import Image\n",
    "import numpy as np\n",
    "import IPython\n",
    "my_gpg3 = easy.EasyGoPiGo3()"
   ]
  },
  {
   "cell_type": "markdown",
   "metadata": {},
   "source": [
    "The next cell will display buttons that will let you drive the GoPiGo3 around. \n",
    "\n",
    "Select the cell and press Shift-Enter. \n",
    "\n",
    "Then press the buttons to command the robot."
   ]
  },
  {
   "cell_type": "code",
   "execution_count": 5,
   "metadata": {},
   "outputs": [
    {
     "data": {
      "application/vnd.jupyter.widget-view+json": {
       "model_id": "ff571519bb6149e39dd8181eea03959e",
       "version_major": 2,
       "version_minor": 0
      },
      "text/html": [
       "<p>Failed to display Jupyter Widget of type <code>VBox</code>.</p>\n",
       "<p>\n",
       "  If you're reading this message in the Jupyter Notebook or JupyterLab Notebook, it may mean\n",
       "  that the widgets JavaScript is still loading. If this message persists, it\n",
       "  likely means that the widgets JavaScript library is either not installed or\n",
       "  not enabled. See the <a href=\"https://ipywidgets.readthedocs.io/en/stable/user_install.html\">Jupyter\n",
       "  Widgets Documentation</a> for setup instructions.\n",
       "</p>\n",
       "<p>\n",
       "  If you're reading this message in another frontend (for example, a static\n",
       "  rendering on GitHub or <a href=\"https://nbviewer.jupyter.org/\">NBViewer</a>),\n",
       "  it may mean that your frontend doesn't currently support widgets.\n",
       "</p>\n"
      ],
      "text/plain": [
       "VBox(children=(Button(description='Go Forward', layout=Layout(flex='1 1 auto', width='auto'), style=ButtonStyle(button_color='#888888')), HBox(children=(Button(description='Left', layout=Layout(flex='1 1 auto', width='auto'), style=ButtonStyle(button_color='#888888')), Button(description='STOP', layout=Layout(flex='1 1 auto', width='auto'), style=ButtonStyle(button_color='red')), Button(description='Right', layout=Layout(flex='1 1 auto', width='auto'), style=ButtonStyle(button_color='#888888')))), Button(description='Go Backward', layout=Layout(flex='1 1 auto', width='auto'), style=ButtonStyle(button_color='#888888'))), layout=Layout(align_items='stretch', border='solid', display='flex', flex_flow='column', width='30%'))"
      ]
     },
     "metadata": {},
     "output_type": "display_data"
    }
   ],
   "source": [
    "darkgrey = '#888888'\n",
    "items_layout = Layout(flex='1 1 auto',\n",
    "                      width='auto')     # override the default width of the button to 'auto' to let the button grow\n",
    "\n",
    "box_layout = Layout(display='flex',\n",
    "                    flex_flow='column',\n",
    "                    align_items='stretch',\n",
    "                    border='solid',\n",
    "                    width='30%')\n",
    "\n",
    "def on_forward_clicked(b):\n",
    "    my_gpg3.set_speed(100)\n",
    "    my_gpg3.forward()\n",
    "    raspi_camera.take_photo('forward_')\n",
    "    \n",
    "    \n",
    "def on_backward_clicked(b):\n",
    "    my_gpg3.backward()\n",
    "    \n",
    "def on_stop_clicked(b):\n",
    "    my_gpg3.stop()\n",
    "    \n",
    "def on_left_clicked(b):\n",
    "    current_speed_right = my_gpg3.get_motor_status(2)[3]\n",
    "    current_speed_left = my_gpg3.get_motor_status(1)[3]\n",
    "    my_gpg3.set_motor_dps(2, current_speed_right+20)\n",
    "    my_gpg3.set_motor_dps(1, current_speed_left-20)\n",
    "    \n",
    "def on_right_clicked(b):\n",
    "    current_speed_right = my_gpg3.get_motor_status(2)[3]\n",
    "    current_speed_left = my_gpg3.get_motor_status(1)[3]\n",
    "    my_gpg3.set_motor_dps(2, current_speed_right-20)\n",
    "    my_gpg3.set_motor_dps(1, current_speed_left+20)\n",
    "\n",
    "def showarray(a, fmt='jpeg'):\n",
    "    f = io.BytesIO()\n",
    "    Image.fromarray(a).save(f, fmt)\n",
    "    IPython.display.display(IPython.display.Image(data=f.getvalue(), width = 480, height = 360))\n",
    "    \n",
    "buttons = []\n",
    "descriptions = [\"Go Forward\", \"Left\", \"STOP\", \"Right\" , \"Go Backward\"]\n",
    "callbacks = [on_forward_clicked, on_left_clicked, on_stop_clicked, on_right_clicked, on_backward_clicked ]\n",
    "for i in range(5):\n",
    "    buttons.append(widgets.Button(description=descriptions[i], layout=items_layout))\n",
    "    buttons[i].style.button_color = darkgrey\n",
    "    buttons[i].on_click(callbacks[i])\n",
    "\n",
    "buttons[2].style.button_color = 'red'  # stop button\n",
    "\n",
    "mid_row = widgets.HBox([buttons[1], buttons[2], buttons[3] ])\n",
    "display(widgets.VBox([buttons[0], mid_row, buttons[4]], layout=box_layout))"
   ]
  },
  {
   "cell_type": "code",
   "execution_count": null,
   "metadata": {},
   "outputs": [],
   "source": []
  }
 ],
 "metadata": {
  "kernelspec": {
   "display_name": "Python 3",
   "language": "python",
   "name": "python3"
  },
  "language_info": {
   "codemirror_mode": {
    "name": "ipython",
    "version": 3
   },
   "file_extension": ".py",
   "mimetype": "text/x-python",
   "name": "python",
   "nbconvert_exporter": "python",
   "pygments_lexer": "ipython3",
   "version": "3.6.6"
  }
 },
 "nbformat": 4,
 "nbformat_minor": 2
}
