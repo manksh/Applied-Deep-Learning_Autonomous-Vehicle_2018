{
 "cells": [
  {
   "cell_type": "markdown",
   "metadata": {},
   "source": [
    "# Collecting Training Data for lane keeping with GoPiGo"
   ]
  },
  {
   "cell_type": "markdown",
   "metadata": {},
   "source": [
    "Training step 1: Prepare this notebook by running both cells. A widget will show up underneath the second cell, and this can be used continuously to control the robot. \n",
    "\n",
    "Training step 2: Switch to the \"training_capture\" notebook"
   ]
  },
  {
   "cell_type": "code",
   "execution_count": 1,
   "metadata": {},
   "outputs": [],
   "source": [
    "from ipywidgets import widgets, Layout\n",
    "import easygopigo3 as easy\n",
    "import picamera\n",
    "import io\n",
    "from PIL import Image\n",
    "import numpy as np\n",
    "\n",
    "my_gpg3 = easy.EasyGoPiGo3()"
   ]
  },
  {
   "cell_type": "markdown",
   "metadata": {},
   "source": [
    "Using the iPython Widgets library, we are able to control the GoPiGo car remotely from within the Jupyter Notebook. "
   ]
  },
  {
   "cell_type": "code",
   "execution_count": 2,
   "metadata": {},
   "outputs": [
    {
     "data": {
      "application/vnd.jupyter.widget-view+json": {
       "model_id": "fde26f226dd4432f8f40c2c762cd6b4c",
       "version_major": 2,
       "version_minor": 0
      },
      "text/plain": [
       "VBox(children=(Button(description='Go Forward', layout=Layout(flex='1 1 auto', width='auto'), style=ButtonStyl…"
      ]
     },
     "metadata": {},
     "output_type": "display_data"
    }
   ],
   "source": [
    "darkgrey = '#888888'\n",
    "items_layout = Layout(flex='1 1 auto',\n",
    "                      width='auto')     # override the default width of the button to 'auto' to let the button grow\n",
    "\n",
    "box_layout = Layout(display='flex',\n",
    "                    flex_flow='column',\n",
    "                    align_items='stretch',\n",
    "                    border='solid',\n",
    "                    width='30%')\n",
    "\n",
    "def on_forward_clicked(b):\n",
    "    my_gpg3.set_speed(100)\n",
    "    my_gpg3.forward()\n",
    "    \n",
    "    \n",
    "def on_backward_clicked(b):\n",
    "    my_gpg3.backward()\n",
    "    \n",
    "def on_stop_clicked(b):\n",
    "    my_gpg3.stop()\n",
    "    \n",
    "def on_left_clicked(b):\n",
    "    my_gpg3.left()\n",
    "    \n",
    "def on_right_clicked(b):\n",
    "    my_gpg3.right()\n",
    "\n",
    "def showarray(a, fmt='jpeg'):\n",
    "    f = io.BytesIO()\n",
    "    Image.fromarray(a).save(f, fmt)\n",
    "    IPython.display.display(IPython.display.Image(data=f.getvalue(), width = 480, height = 360))\n",
    "    \n",
    "buttons = []\n",
    "descriptions = [\"Go Forward\", \"Left\", \"STOP\", \"Right\" , \"Go Backward\"]\n",
    "callbacks = [on_forward_clicked, on_left_clicked, on_stop_clicked, on_right_clicked, on_backward_clicked ]\n",
    "for i in range(5):\n",
    "    buttons.append(widgets.Button(description=descriptions[i], layout=items_layout))\n",
    "    buttons[i].style.button_color = darkgrey\n",
    "    buttons[i].on_click(callbacks[i])\n",
    "\n",
    "buttons[2].style.button_color = 'red'  # stop button\n",
    "\n",
    "mid_row = widgets.HBox([buttons[1], buttons[2], buttons[3] ])\n",
    "display(widgets.VBox([buttons[0], mid_row, buttons[4]], layout=box_layout))"
   ]
  }
 ],
 "metadata": {
  "kernelspec": {
   "display_name": "Python 3",
   "language": "python",
   "name": "python3"
  },
  "language_info": {
   "codemirror_mode": {
    "name": "ipython",
    "version": 3
   },
   "file_extension": ".py",
   "mimetype": "text/x-python",
   "name": "python",
   "nbconvert_exporter": "python",
   "pygments_lexer": "ipython3",
   "version": "3.5.3"
  }
 },
 "nbformat": 4,
 "nbformat_minor": 2
}
