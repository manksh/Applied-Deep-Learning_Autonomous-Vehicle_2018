{
 "cells": [
  {
   "cell_type": "code",
   "execution_count": 1,
   "metadata": {},
   "outputs": [],
   "source": [
    "%%capture\n",
    "import tensorflow as tf\n",
    "from tensorflow import keras\n",
    "from tensorflow.keras.models import Sequential, Model\n",
    "from tensorflow.keras import Input\n",
    "from PIL import Image\n",
    "import os \n",
    "import numpy as np\n",
    "from tqdm import tqdm_notebook\n",
    "import csv\n",
    "import zipfile\n",
    "import tarfile\n",
    "!pip install opencv-python\n",
    "import cv2\n",
    "import matplotlib.pyplot as plt\n",
    "import pandas as pd\n",
    "import scipy\n",
    "from scipy import misc, ndimage"
   ]
  },
  {
   "cell_type": "code",
   "execution_count": 2,
   "metadata": {},
   "outputs": [],
   "source": [
    "# DNN (Flase) or CNN (True)\n",
    "model_switch = True"
   ]
  },
  {
   "cell_type": "code",
   "execution_count": 3,
   "metadata": {},
   "outputs": [],
   "source": [
    "def absSobelThresh(img, orient, thresh, sobelKernel = 19):\n",
    "    \n",
    "    threshMin=thresh[0]\n",
    "    threshMax=thresh[1]\n",
    "    gray = cv2.cvtColor(img, cv2.COLOR_RGB2GRAY)\n",
    "    if orient == 'x':\n",
    "        sobelOp = cv2.Sobel(gray, cv2.CV_64F, 1, 0, ksize=sobelKernel)\n",
    "    else:\n",
    "        sobelOp = cv2.Sobel(gray, cv2.CV_64F, 0, 1, ksize=sobelKernel)\n",
    "    absSobel = np.absolute(sobelOp)\n",
    "    scaledSobel = np.uint8(255*absSobel/np.max(absSobel))\n",
    "    sxbinary = np.zeros_like(scaledSobel)\n",
    "    sxbinary[(scaledSobel > threshMin) & (scaledSobel < threshMax)] = 1\n",
    "    binaryOutput = sxbinary \n",
    "    \n",
    "    return binaryOutput\n",
    "\n",
    "def combinedThreshBinaryImg(img, threshX, threshY, threshColorS, threshColorU, threshColorR):\n",
    "\n",
    "    hls = cv2.cvtColor(img, cv2.COLOR_BGR2HLS).astype(np.float)\n",
    "    rgb = cv2.cvtColor(img, cv2.COLOR_BGR2RGB).astype(np.float)\n",
    "    yuv = cv2.cvtColor(img, cv2.COLOR_BGR2YUV).astype(np.float)\n",
    "    L = hls[:,:,1]\n",
    "    S = hls[:,:,2]\n",
    "    R = rgb[:,:,0]\n",
    "    U = yuv[:,:,1]\n",
    "    sobelX = absSobelThresh(img, orient='x', thresh=(threshX[0], threshX[1]))\n",
    "    sobelY = absSobelThresh(img, orient='y', thresh=(threshY[0], threshY[1]))\n",
    "    sBinary = np.zeros_like(S)\n",
    "    sBinary[(S >= threshColorS[0]) & (S <= threshColorS[1])] = 1\n",
    "    rBinary = np.zeros_like(R)\n",
    "    rBinary[(R >= threshColorR[0]) & (R <= threshColorR[1])] = 1\n",
    "    uBinary = np.zeros_like(U)\n",
    "    uBinary[(U >= threshColorU[0]) & (U <= threshColorU[1])] = 1    \n",
    "    colorBinary = np.dstack(( rBinary, ((sobelX == 1) & (sobelY == 1)), uBinary ))\n",
    "    combinedBinary = np.zeros_like(sBinary)\n",
    "    combinedBinary[(rBinary == 1) | (uBinary == 1) | ((sobelX == 1) & (sobelY == 1))] = 1\n",
    "    \n",
    "    return combinedBinary"
   ]
  },
  {
   "cell_type": "code",
   "execution_count": 4,
   "metadata": {},
   "outputs": [],
   "source": [
    "def load_images(path, size, kernel, method):\n",
    "    images = []\n",
    "    left = []\n",
    "    right = []\n",
    "    gtFile = open('/home/pk2573/train_wheel_speeds.csv') \n",
    "    gtReader = csv.reader(gtFile, delimiter = ',')\n",
    "    next(gtReader, None)\n",
    "    for row in gtReader:\n",
    "        if row[0] != \"0\" and (row[1] != \"0\" and row[2] != \"0\"):\n",
    "            image = Image.open(path +\"/train_img_\" + row[0] + \".jpg\")\n",
    "            image = image.resize(size, Image.ANTIALIAS)\n",
    "            \n",
    "            if method == 1:\n",
    "                image = np.array(image)\n",
    "                image = cv2.cvtColor(image, cv2.COLOR_BGR2RGB).astype(np.float)\n",
    "                image = np.array(image).astype(\"uint8\")\n",
    "                image = combinedThreshBinaryImg(image, \n",
    "                                                threshX=(1, 255), \n",
    "                                                threshY=(50, 255), \n",
    "                                                threshColorS=(1,255), \n",
    "                                                threshColorU=(250,250), \n",
    "                                                threshColorR=(230,255))\n",
    "                \n",
    "            elif method == 2:\n",
    "                image = np.array(image)\n",
    "                image = cv2.cvtColor(image, cv2.COLOR_BGR2HLS).astype(np.float)\n",
    "                image[:,:,0] = scipy.ndimage.convolve(image[:,:,0], kernel, mode = \"constant\")\n",
    "                image = np.array(image).astype(\"uint8\")\n",
    "                image = cv2.cvtColor(image, cv2.COLOR_RGB2GRAY)\n",
    "                \n",
    "            elif method == 3:\n",
    "                image = np.array(image.convert(\"L\"))\n",
    "                n_pixels = image.shape[0] + image.shape[1]\n",
    "                image = cv2.Canny(image,20,20) \n",
    "                image = cv2.dilate(image, cv2.getStructuringElement(cv2.MORPH_ELLIPSE, (2, 2)))\n",
    "                \n",
    "            elif method == 4:                \n",
    "                image = np.array(image)\n",
    "                image = cv2.cvtColor(image, cv2.COLOR_BGR2RGB).astype(np.float)\n",
    "                image[:,:,0] = scipy.ndimage.convolve(image[:,:,0], kernel, mode = \"constant\")\n",
    "                image = np.array(image).astype(\"uint8\")\n",
    "                hls = cv2.cvtColor(image, cv2.COLOR_BGR2HLS).astype(np.float)\n",
    "                yuv = cv2.cvtColor(image, cv2.COLOR_BGR2YUV).astype(np.float)\n",
    "                hsv = cv2.cvtColor(image, cv2.COLOR_BGR2HSV).astype(np.float)\n",
    "                rgb = cv2.cvtColor(image, cv2.COLOR_BGR2RGB).astype(np.float)\n",
    "                L = hls[:,:,1]\n",
    "                S = hls[:,:,2]\n",
    "                R = rgb[:,:,0]\n",
    "                H = hls[:,:,0]\n",
    "                threshX = (1, 255) \n",
    "                threshY = (1, 255) \n",
    "                threshColorS = (200, 255)\n",
    "                threshColorL = (200, 255)\n",
    "                threshColorR = (200, 255)\n",
    "\n",
    "                sBinary = np.zeros_like(L)\n",
    "                sBinary[(S >= threshColorS[0]) & (S <= threshColorS[1])] = 1\n",
    "                lBinary = np.zeros_like(L)\n",
    "                lBinary[(L >= threshColorL[0]) & (L <= threshColorL[1])] = 1\n",
    "                rBinary = np.zeros_like(R)\n",
    "                rBinary[(R >= threshColorR[0]) & (R <= threshColorR[1])] = 1\n",
    "\n",
    "                afterProcess = np.dstack((sBinary, lBinary, rBinary))\n",
    "                image = np.array(afterProcess).astype(\"uint8\")\n",
    "                \n",
    "            image = image / np.max(image)\n",
    "            images.append(image[50:])\n",
    "            left.append(row[1]) \n",
    "            right.append(row[2])\n",
    "    \n",
    "    return np.array(images), np.array(left).astype(\"uint8\"), np.array(right).astype(\"uint8\")"
   ]
  },
  {
   "cell_type": "code",
   "execution_count": 5,
   "metadata": {},
   "outputs": [],
   "source": [
    "def un_zip(path):\n",
    "    path, fname = os.path.split(path)\n",
    "    if (fname.endswith(\"tar.gz\")):\n",
    "        tar = tarfile.open(fname, \"r\")\n",
    "        tar.extractall(path)\n",
    "        tar.close()\n",
    "    elif (fname.endswith(\"tar.gz\")):\n",
    "        tar = tarfile.open(fname, \"r:\")\n",
    "        tar.extractall(path)\n",
    "        tar.close()\n",
    "    elif (fname.endswith(\"zip\")):\n",
    "        zip_ref = zipfile.ZipFile(fname, 'r')\n",
    "        zip_ref.extractall(path)\n",
    "        zip_ref.close() \n",
    "            \n",
    "    return "
   ]
  },
  {
   "cell_type": "code",
   "execution_count": 6,
   "metadata": {},
   "outputs": [],
   "source": [
    "path = \"/home/pk2573/gopigo_training.tar.gz\"\n",
    "un_zip(path)"
   ]
  },
  {
   "cell_type": "code",
   "execution_count": 7,
   "metadata": {},
   "outputs": [],
   "source": [
    "new_path = \"/home/pk2573/training_images\""
   ]
  },
  {
   "cell_type": "code",
   "execution_count": 8,
   "metadata": {},
   "outputs": [],
   "source": [
    "kernel = np.array([[-1, -1, -1], \n",
    "                             [-1, 8, -1],\n",
    "                             [-1, -1, -1]])"
   ]
  },
  {
   "cell_type": "code",
   "execution_count": 9,
   "metadata": {},
   "outputs": [
    {
     "name": "stdout",
     "output_type": "stream",
     "text": [
      "Images: 1045 , Shape: (1045, 78, 128)\n",
      "Left: 1045 , Shape: (1045,)\n",
      "Right: 1045 , Shape: (1045,)\n"
     ]
    }
   ],
   "source": [
    "size = 128,128\n",
    "method = 1\n",
    "images, left, right = load_images(new_path, size, kernel, method)\n",
    "\n",
    "print(\"Images:\", len(images), \", Shape:\", images.shape)\n",
    "print(\"Left:\", len(left), \", Shape:\", left.shape)\n",
    "print(\"Right:\", len(right), \", Shape:\", right.shape)"
   ]
  },
  {
   "cell_type": "code",
   "execution_count": 10,
   "metadata": {},
   "outputs": [
    {
     "data": {
      "text/plain": [
       "<matplotlib.image.AxesImage at 0x7fa8a7fc8080>"
      ]
     },
     "execution_count": 10,
     "metadata": {},
     "output_type": "execute_result"
    },
    {
     "data": {
      "image/png": "[encoded data removed]",
      "text/plain": [
       "<Figure size 432x288 with 1 Axes>"
      ]
     },
     "metadata": {
      "needs_background": "light"
     },
     "output_type": "display_data"
    }
   ],
   "source": [
    "plt.imshow(images[1], cmap = \"gray\")"
   ]
  },
  {
   "cell_type": "code",
   "execution_count": 11,
   "metadata": {},
   "outputs": [
    {
     "name": "stdout",
     "output_type": "stream",
     "text": [
      "(1045, 78, 128, 1)\n"
     ]
    }
   ],
   "source": [
    "if len(images.shape) == 3:\n",
    "    images = np.reshape(images, (images.shape[0], images.shape[1], images.shape[2], 1))\n",
    "print(images.shape)"
   ]
  },
  {
   "cell_type": "code",
   "execution_count": 12,
   "metadata": {},
   "outputs": [],
   "source": [
    "class CNN(object):\n",
    "    \n",
    "    def __init__(self, activation, x_train, y_train, epochs, batch_size, input_shape, val_split, padding, filter_size, pooling_size):\n",
    "        self.activation = activation\n",
    "        self.x_train = x_train\n",
    "        self.y_train = y_train\n",
    "        self.epochs = epochs\n",
    "        self.batch_size = batch_size\n",
    "        self.input_shape = input_shape\n",
    "        self.val_split = val_split\n",
    "        self.padding = padding\n",
    "        self.filter = filter_size\n",
    "        self.pooling = pooling_size\n",
    "        \n",
    "        pass \n",
    "    \n",
    "    def create_model(self):\n",
    "\n",
    "        img = Input(shape = self.input_shape, name = 'images')\n",
    "\n",
    "        x = tf.keras.layers.Conv2D(512, self.filter, padding = self.padding, activation = self.activation)(img)\n",
    "        x = tf.keras.layers.MaxPooling2D(self.pooling)(x)\n",
    "        x = tf.keras.layers.Conv2D(256, self.filter, padding = self.padding, activation = self.activation)(x)\n",
    "        x = tf.keras.layers.MaxPooling2D(self.pooling)(x)\n",
    "        x = tf.keras.layers.Conv2D(128, self.filter, padding = self.padding, activation = self.activation)(x)\n",
    "        x = tf.keras.layers.MaxPooling2D(self.pooling)(x)\n",
    "        x = tf.keras.layers.Conv2D(64, self.filter, padding = self.padding, activation = self.activation)(x)\n",
    "        x = tf.keras.layers.GlobalMaxPooling2D()(x)\n",
    "        x = tf.keras.layers.Dense(128, activation = self.activation)(x)\n",
    "        x = tf.keras.layers.Dense(64, activation = self.activation)(x)\n",
    "\n",
    "        left_pred = tf.keras.layers.Dense(1, name = \"left\")(x)\n",
    "        right_pred = tf.keras.layers.Dense(1, name = \"right\")(x)\n",
    "        model = Model(img, [left_pred, right_pred])\n",
    "        \n",
    "        return model\n",
    "    \n",
    "    def run_model(self):\n",
    "        model = self.create_model()\n",
    "        model.compile(\"adam\", loss = {'left': 'mse', 'right': 'mse'})\n",
    "        model.summary()\n",
    "        \n",
    "        history = model.fit(self.x_train, {'left': self.y_train[0], 'right': self.y_train[1]}, \n",
    "                            epochs = self.epochs, \n",
    "                            batch_size = self.batch_size, \n",
    "                            validation_split = self.val_split,\n",
    "                            verbose = 0)\n",
    "        \n",
    "        return history, model"
   ]
  },
  {
   "cell_type": "code",
   "execution_count": 13,
   "metadata": {},
   "outputs": [],
   "source": [
    "class DNN(object):\n",
    "    \n",
    "    def __init__(self, activation, x_train, y_train, epochs, batch_size, input_shape, val_split):\n",
    "        self.activation = activation\n",
    "        self.x_train = x_train\n",
    "        self.y_train = y_train\n",
    "        self.epochs = epochs\n",
    "        self.batch_size = batch_size\n",
    "        self.input_shape = input_shape\n",
    "        self.val_split = val_split\n",
    "        \n",
    "        pass \n",
    "    \n",
    "    def create_model(self):\n",
    "\n",
    "        img = Input(shape = self.input_shape, name = 'images')\n",
    "    \n",
    "        x = tf.keras.layers.Flatten()(img)\n",
    "        x = tf.keras.layers.Dense(1024, activation = self.activation)(x)\n",
    "        x = tf.keras.layers.Dropout(0.2)(x)\n",
    "        x = tf.keras.layers.Dense(512, activation = self.activation)(x)\n",
    "        x = tf.keras.layers.Dropout(0.2)(x)\n",
    "        x = tf.keras.layers.Dense(256, activation = self.activation)(x)\n",
    "        x = tf.keras.layers.Dropout(0.2)(x)\n",
    "        x = tf.keras.layers.Dense(128, activation = self.activation)(x)\n",
    "        x = tf.keras.layers.Dropout(0.2)(x)\n",
    "        x = tf.keras.layers.Dense(64, activation = self.activation)(x)\n",
    "\n",
    "        left_pred = tf.keras.layers.Dense(1, name = \"left\")(x)\n",
    "        right_pred = tf.keras.layers.Dense(1, name = \"right\")(x)\n",
    "        model = Model(img, [left_pred, right_pred])\n",
    "        \n",
    "        return model\n",
    "    \n",
    "    def run_model(self):\n",
    "        model = self.create_model()\n",
    "        model.compile(\"adam\", loss = {'left': 'mse', 'right': 'mse'})\n",
    "        model.summary()\n",
    "        \n",
    "        history = model.fit(self.x_train, {'left': self.y_train[0], 'right': self.y_train[1]}, \n",
    "                            epochs = self.epochs, \n",
    "                            batch_size = self.batch_size, \n",
    "                            validation_split = self.val_split,\n",
    "                            verbose = 0)\n",
    "        \n",
    "        return history, model"
   ]
  },
  {
   "cell_type": "code",
   "execution_count": 14,
   "metadata": {},
   "outputs": [
    {
     "name": "stdout",
     "output_type": "stream",
     "text": [
      "(840, 78, 128, 1)\n"
     ]
    }
   ],
   "source": [
    "mask =  np.random.rand(images.shape[0]) < 0.80\n",
    "x_train, x_test = images[mask,:,:,:], images[~mask,:,:,:]\n",
    "train_left, test_left, train_right, test_right = left[mask], left[~mask], right[mask], right[~mask]\n",
    "y_train = [train_left, train_right]\n",
    "y_test = [test_left, test_right]\n",
    "\n",
    "print(x_train.shape)"
   ]
  },
  {
   "cell_type": "code",
   "execution_count": 15,
   "metadata": {},
   "outputs": [
    {
     "name": "stdout",
     "output_type": "stream",
     "text": [
      "__________________________________________________________________________________________________\n",
      "Layer (type)                    Output Shape         Param #     Connected to                     \n",
      "==================================================================================================\n",
      "images (InputLayer)             (None, 78, 128, 1)   0                                            \n",
      "__________________________________________________________________________________________________\n",
      "conv2d (Conv2D)                 (None, 78, 128, 512) 5120        images[0][0]                     \n",
      "__________________________________________________________________________________________________\n",
      "max_pooling2d (MaxPooling2D)    (None, 39, 64, 512)  0           conv2d[0][0]                     \n",
      "__________________________________________________________________________________________________\n",
      "conv2d_1 (Conv2D)               (None, 39, 64, 256)  1179904     max_pooling2d[0][0]              \n",
      "__________________________________________________________________________________________________\n",
      "max_pooling2d_1 (MaxPooling2D)  (None, 19, 32, 256)  0           conv2d_1[0][0]                   \n",
      "__________________________________________________________________________________________________\n",
      "conv2d_2 (Conv2D)               (None, 19, 32, 128)  295040      max_pooling2d_1[0][0]            \n",
      "__________________________________________________________________________________________________\n",
      "max_pooling2d_2 (MaxPooling2D)  (None, 9, 16, 128)   0           conv2d_2[0][0]                   \n",
      "__________________________________________________________________________________________________\n",
      "conv2d_3 (Conv2D)               (None, 9, 16, 64)    73792       max_pooling2d_2[0][0]            \n",
      "__________________________________________________________________________________________________\n",
      "global_max_pooling2d (GlobalMax (None, 64)           0           conv2d_3[0][0]                   \n",
      "__________________________________________________________________________________________________\n",
      "dense (Dense)                   (None, 128)          8320        global_max_pooling2d[0][0]       \n",
      "__________________________________________________________________________________________________\n",
      "dense_1 (Dense)                 (None, 64)           8256        dense[0][0]                      \n",
      "__________________________________________________________________________________________________\n",
      "left (Dense)                    (None, 1)            65          dense_1[0][0]                    \n",
      "__________________________________________________________________________________________________\n",
      "right (Dense)                   (None, 1)            65          dense_1[0][0]                    \n",
      "==================================================================================================\n",
      "Total params: 1,570,562\n",
      "Trainable params: 1,570,562\n",
      "Non-trainable params: 0\n",
      "__________________________________________________________________________________________________\n"
     ]
    }
   ],
   "source": [
    "activation = \"relu\"\n",
    "epochs = 100\n",
    "batch_size = 16\n",
    "input_shape = (x_train.shape[1], x_train.shape[2], x_train.shape[3]) \n",
    "val_split = 0.2\n",
    "padding = \"same\"\n",
    "filter_size = (3,3)\n",
    "pool_size = (2,2)\n",
    "\n",
    "if model_switch:\n",
    "    model = CNN(activation, x_train, y_train, epochs, batch_size, input_shape, val_split, padding, filter_size, pool_size)\n",
    "    history, model = model.run_model()\n",
    "else:\n",
    "    model = DNN(activation, x_train, y_train, epochs, batch_size, input_shape, val_split)\n",
    "    history, model = model.run_model()"
   ]
  },
  {
   "cell_type": "code",
   "execution_count": 16,
   "metadata": {},
   "outputs": [
    {
     "data": {
      "text/plain": [
       "<matplotlib.legend.Legend at 0x7fa89c1c4748>"
      ]
     },
     "execution_count": 16,
     "metadata": {},
     "output_type": "execute_result"
    },
    {
     "data": {
      "image/png": "[encoded data removed]",
      "text/plain": [
       "<Figure size 432x288 with 1 Axes>"
      ]
     },
     "metadata": {
      "needs_background": "light"
     },
     "output_type": "display_data"
    }
   ],
   "source": [
    "plt.plot(history.epoch, np.array(history.history['loss']), label = 'Train Loss')\n",
    "plt.plot(history.epoch, np.array(history.history['val_loss']), label = 'Val loss')\n",
    "plt.xlabel('Epoch')\n",
    "plt.ylabel('Mean Square Error')\n",
    "plt.legend()"
   ]
  },
  {
   "cell_type": "code",
   "execution_count": 17,
   "metadata": {},
   "outputs": [
    {
     "name": "stdout",
     "output_type": "stream",
     "text": [
      "59.051064\n",
      "107.17828\n"
     ]
    }
   ],
   "source": [
    "pred = np.array(model.predict(x_test))\n",
    "left_pred = pred[0,:,0]\n",
    "right_pred = pred[1,:,0]\n",
    "print(np.max(left_pred - y_test[0]))\n",
    "print(np.max(right_pred - y_test[1]))"
   ]
  },
  {
   "cell_type": "code",
   "execution_count": 18,
   "metadata": {},
   "outputs": [
    {
     "data": {
      "text/plain": [
       "<function matplotlib.pyplot.show(*args, **kw)>"
      ]
     },
     "execution_count": 18,
     "metadata": {},
     "output_type": "execute_result"
    },
    {
     "data": {
      "image/png": "[encoded data removed]",
      "text/plain": [
       "<Figure size 432x288 with 1 Axes>"
      ]
     },
     "metadata": {
      "needs_background": "light"
     },
     "output_type": "display_data"
    }
   ],
   "source": [
    "n_bins = 100\n",
    "plt.hist(left_pred, bins = n_bins, alpha = 0.3, label = \"Predicted left\")\n",
    "plt.hist(y_test[0], bins = n_bins, alpha = 0.3, label = \"True left\")\n",
    "plt.legend()\n",
    "plt.show"
   ]
  },
  {
   "cell_type": "code",
   "execution_count": 19,
   "metadata": {},
   "outputs": [
    {
     "data": {
      "text/plain": [
       "<function matplotlib.pyplot.show(*args, **kw)>"
      ]
     },
     "execution_count": 19,
     "metadata": {},
     "output_type": "execute_result"
    },
    {
     "data": {
      "image/png": "[encoded data removed]",
      "text/plain": [
       "<Figure size 432x288 with 1 Axes>"
      ]
     },
     "metadata": {
      "needs_background": "light"
     },
     "output_type": "display_data"
    }
   ],
   "source": [
    "n_bins = 100\n",
    "plt.hist(right_pred, bins = n_bins, alpha = 0.3, label = \"Predicted right\")\n",
    "plt.hist(y_test[1], bins = n_bins, alpha = 0.3, label = \"True right\")\n",
    "plt.legend()\n",
    "plt.show"
   ]
  },
  {
   "cell_type": "code",
   "execution_count": 21,
   "metadata": {},
   "outputs": [
    {
     "data": {
      "text/html": [
       "<div>\n",
       "<style scoped>\n",
       "    .dataframe tbody tr th:only-of-type {\n",
       "        vertical-align: middle;\n",
       "    }\n",
       "\n",
       "    .dataframe tbody tr th {\n",
       "        vertical-align: top;\n",
       "    }\n",
       "\n",
       "    .dataframe thead th {\n",
       "        text-align: right;\n",
       "    }\n",
       "</style>\n",
       "<table border=\"1\" class=\"dataframe\">\n",
       "  <thead>\n",
       "    <tr style=\"text-align: right;\">\n",
       "      <th></th>\n",
       "      <th>Pred_Left</th>\n",
       "      <th>True_Left</th>\n",
       "      <th>Diff</th>\n",
       "      <th>Pred_Right</th>\n",
       "      <th>True_Right</th>\n",
       "      <th>Diff</th>\n",
       "      <th>Pred_Ratio</th>\n",
       "      <th>True_Ratio</th>\n",
       "    </tr>\n",
       "  </thead>\n",
       "  <tbody>\n",
       "    <tr>\n",
       "      <th>0</th>\n",
       "      <td>104.781479</td>\n",
       "      <td>98.0</td>\n",
       "      <td>6.781479</td>\n",
       "      <td>56.476154</td>\n",
       "      <td>25.0</td>\n",
       "      <td>31.476154</td>\n",
       "      <td>1.855322</td>\n",
       "      <td>3.920000</td>\n",
       "    </tr>\n",
       "    <tr>\n",
       "      <th>1</th>\n",
       "      <td>102.157310</td>\n",
       "      <td>100.0</td>\n",
       "      <td>2.157310</td>\n",
       "      <td>51.717724</td>\n",
       "      <td>43.0</td>\n",
       "      <td>8.717724</td>\n",
       "      <td>1.975286</td>\n",
       "      <td>2.325581</td>\n",
       "    </tr>\n",
       "    <tr>\n",
       "      <th>2</th>\n",
       "      <td>107.951591</td>\n",
       "      <td>101.0</td>\n",
       "      <td>6.951591</td>\n",
       "      <td>106.786652</td>\n",
       "      <td>96.0</td>\n",
       "      <td>10.786652</td>\n",
       "      <td>1.010909</td>\n",
       "      <td>1.052083</td>\n",
       "    </tr>\n",
       "    <tr>\n",
       "      <th>3</th>\n",
       "      <td>105.643181</td>\n",
       "      <td>96.0</td>\n",
       "      <td>9.643181</td>\n",
       "      <td>104.190018</td>\n",
       "      <td>101.0</td>\n",
       "      <td>3.190018</td>\n",
       "      <td>1.013947</td>\n",
       "      <td>0.950495</td>\n",
       "    </tr>\n",
       "    <tr>\n",
       "      <th>4</th>\n",
       "      <td>104.557594</td>\n",
       "      <td>101.0</td>\n",
       "      <td>3.557594</td>\n",
       "      <td>92.411835</td>\n",
       "      <td>100.0</td>\n",
       "      <td>-7.588165</td>\n",
       "      <td>1.131431</td>\n",
       "      <td>1.010000</td>\n",
       "    </tr>\n",
       "    <tr>\n",
       "      <th>5</th>\n",
       "      <td>105.271675</td>\n",
       "      <td>101.0</td>\n",
       "      <td>4.271675</td>\n",
       "      <td>104.276802</td>\n",
       "      <td>101.0</td>\n",
       "      <td>3.276802</td>\n",
       "      <td>1.009541</td>\n",
       "      <td>1.000000</td>\n",
       "    </tr>\n",
       "    <tr>\n",
       "      <th>6</th>\n",
       "      <td>103.713097</td>\n",
       "      <td>101.0</td>\n",
       "      <td>2.713097</td>\n",
       "      <td>102.969826</td>\n",
       "      <td>101.0</td>\n",
       "      <td>1.969826</td>\n",
       "      <td>1.007218</td>\n",
       "      <td>1.000000</td>\n",
       "    </tr>\n",
       "    <tr>\n",
       "      <th>7</th>\n",
       "      <td>100.775391</td>\n",
       "      <td>101.0</td>\n",
       "      <td>-0.224609</td>\n",
       "      <td>100.912132</td>\n",
       "      <td>96.0</td>\n",
       "      <td>4.912132</td>\n",
       "      <td>0.998645</td>\n",
       "      <td>1.052083</td>\n",
       "    </tr>\n",
       "    <tr>\n",
       "      <th>8</th>\n",
       "      <td>101.759247</td>\n",
       "      <td>101.0</td>\n",
       "      <td>0.759247</td>\n",
       "      <td>103.325691</td>\n",
       "      <td>100.0</td>\n",
       "      <td>3.325691</td>\n",
       "      <td>0.984840</td>\n",
       "      <td>1.010000</td>\n",
       "    </tr>\n",
       "    <tr>\n",
       "      <th>9</th>\n",
       "      <td>105.522026</td>\n",
       "      <td>100.0</td>\n",
       "      <td>5.522026</td>\n",
       "      <td>101.064499</td>\n",
       "      <td>104.0</td>\n",
       "      <td>-2.935501</td>\n",
       "      <td>1.044106</td>\n",
       "      <td>0.961538</td>\n",
       "    </tr>\n",
       "    <tr>\n",
       "      <th>10</th>\n",
       "      <td>101.650414</td>\n",
       "      <td>101.0</td>\n",
       "      <td>0.650414</td>\n",
       "      <td>102.924606</td>\n",
       "      <td>101.0</td>\n",
       "      <td>1.924606</td>\n",
       "      <td>0.987620</td>\n",
       "      <td>1.000000</td>\n",
       "    </tr>\n",
       "    <tr>\n",
       "      <th>11</th>\n",
       "      <td>103.046425</td>\n",
       "      <td>100.0</td>\n",
       "      <td>3.046425</td>\n",
       "      <td>101.873833</td>\n",
       "      <td>100.0</td>\n",
       "      <td>1.873833</td>\n",
       "      <td>1.011510</td>\n",
       "      <td>1.000000</td>\n",
       "    </tr>\n",
       "    <tr>\n",
       "      <th>12</th>\n",
       "      <td>98.061424</td>\n",
       "      <td>101.0</td>\n",
       "      <td>-2.938576</td>\n",
       "      <td>67.962494</td>\n",
       "      <td>77.0</td>\n",
       "      <td>-9.037506</td>\n",
       "      <td>1.442876</td>\n",
       "      <td>1.311688</td>\n",
       "    </tr>\n",
       "    <tr>\n",
       "      <th>13</th>\n",
       "      <td>98.148972</td>\n",
       "      <td>96.0</td>\n",
       "      <td>2.148972</td>\n",
       "      <td>54.571789</td>\n",
       "      <td>43.0</td>\n",
       "      <td>11.571789</td>\n",
       "      <td>1.798530</td>\n",
       "      <td>2.232558</td>\n",
       "    </tr>\n",
       "    <tr>\n",
       "      <th>14</th>\n",
       "      <td>101.279610</td>\n",
       "      <td>101.0</td>\n",
       "      <td>0.279610</td>\n",
       "      <td>86.843788</td>\n",
       "      <td>81.0</td>\n",
       "      <td>5.843788</td>\n",
       "      <td>1.166227</td>\n",
       "      <td>1.246914</td>\n",
       "    </tr>\n",
       "    <tr>\n",
       "      <th>15</th>\n",
       "      <td>99.198029</td>\n",
       "      <td>101.0</td>\n",
       "      <td>-1.801971</td>\n",
       "      <td>93.729561</td>\n",
       "      <td>100.0</td>\n",
       "      <td>-6.270439</td>\n",
       "      <td>1.058343</td>\n",
       "      <td>1.010000</td>\n",
       "    </tr>\n",
       "    <tr>\n",
       "      <th>16</th>\n",
       "      <td>103.519615</td>\n",
       "      <td>100.0</td>\n",
       "      <td>3.519615</td>\n",
       "      <td>96.034370</td>\n",
       "      <td>96.0</td>\n",
       "      <td>0.034370</td>\n",
       "      <td>1.077943</td>\n",
       "      <td>1.041667</td>\n",
       "    </tr>\n",
       "    <tr>\n",
       "      <th>17</th>\n",
       "      <td>105.864288</td>\n",
       "      <td>101.0</td>\n",
       "      <td>4.864288</td>\n",
       "      <td>106.087074</td>\n",
       "      <td>100.0</td>\n",
       "      <td>6.087074</td>\n",
       "      <td>0.997900</td>\n",
       "      <td>1.010000</td>\n",
       "    </tr>\n",
       "    <tr>\n",
       "      <th>18</th>\n",
       "      <td>107.946541</td>\n",
       "      <td>101.0</td>\n",
       "      <td>6.946541</td>\n",
       "      <td>79.296791</td>\n",
       "      <td>62.0</td>\n",
       "      <td>17.296791</td>\n",
       "      <td>1.361298</td>\n",
       "      <td>1.629032</td>\n",
       "    </tr>\n",
       "    <tr>\n",
       "      <th>19</th>\n",
       "      <td>107.478745</td>\n",
       "      <td>101.0</td>\n",
       "      <td>6.478745</td>\n",
       "      <td>51.362640</td>\n",
       "      <td>100.0</td>\n",
       "      <td>-48.637360</td>\n",
       "      <td>2.092547</td>\n",
       "      <td>1.010000</td>\n",
       "    </tr>\n",
       "  </tbody>\n",
       "</table>\n",
       "</div>"
      ],
      "text/plain": [
       "     Pred_Left  True_Left      Diff  Pred_Right  True_Right       Diff  \\\n",
       "0   104.781479       98.0  6.781479   56.476154        25.0  31.476154   \n",
       "1   102.157310      100.0  2.157310   51.717724        43.0   8.717724   \n",
       "2   107.951591      101.0  6.951591  106.786652        96.0  10.786652   \n",
       "3   105.643181       96.0  9.643181  104.190018       101.0   3.190018   \n",
       "4   104.557594      101.0  3.557594   92.411835       100.0  -7.588165   \n",
       "5   105.271675      101.0  4.271675  104.276802       101.0   3.276802   \n",
       "6   103.713097      101.0  2.713097  102.969826       101.0   1.969826   \n",
       "7   100.775391      101.0 -0.224609  100.912132        96.0   4.912132   \n",
       "8   101.759247      101.0  0.759247  103.325691       100.0   3.325691   \n",
       "9   105.522026      100.0  5.522026  101.064499       104.0  -2.935501   \n",
       "10  101.650414      101.0  0.650414  102.924606       101.0   1.924606   \n",
       "11  103.046425      100.0  3.046425  101.873833       100.0   1.873833   \n",
       "12   98.061424      101.0 -2.938576   67.962494        77.0  -9.037506   \n",
       "13   98.148972       96.0  2.148972   54.571789        43.0  11.571789   \n",
       "14  101.279610      101.0  0.279610   86.843788        81.0   5.843788   \n",
       "15   99.198029      101.0 -1.801971   93.729561       100.0  -6.270439   \n",
       "16  103.519615      100.0  3.519615   96.034370        96.0   0.034370   \n",
       "17  105.864288      101.0  4.864288  106.087074       100.0   6.087074   \n",
       "18  107.946541      101.0  6.946541   79.296791        62.0  17.296791   \n",
       "19  107.478745      101.0  6.478745   51.362640       100.0 -48.637360   \n",
       "\n",
       "    Pred_Ratio  True_Ratio  \n",
       "0     1.855322    3.920000  \n",
       "1     1.975286    2.325581  \n",
       "2     1.010909    1.052083  \n",
       "3     1.013947    0.950495  \n",
       "4     1.131431    1.010000  \n",
       "5     1.009541    1.000000  \n",
       "6     1.007218    1.000000  \n",
       "7     0.998645    1.052083  \n",
       "8     0.984840    1.010000  \n",
       "9     1.044106    0.961538  \n",
       "10    0.987620    1.000000  \n",
       "11    1.011510    1.000000  \n",
       "12    1.442876    1.311688  \n",
       "13    1.798530    2.232558  \n",
       "14    1.166227    1.246914  \n",
       "15    1.058343    1.010000  \n",
       "16    1.077943    1.041667  \n",
       "17    0.997900    1.010000  \n",
       "18    1.361298    1.629032  \n",
       "19    2.092547    1.010000  "
      ]
     },
     "execution_count": 21,
     "metadata": {},
     "output_type": "execute_result"
    }
   ],
   "source": [
    "a = pd.DataFrame(data = [left_pred, y_test[0], left_pred - y_test[0], right_pred, y_test[1], right_pred - y_test[1], left_pred / right_pred, y_test[0] / y_test[1]]).T\n",
    "a.columns = [\"Pred_Left\", \"True_Left\", \"Diff\", \"Pred_Right\", \"True_Right\", \"Diff\", \"Pred_Ratio\", \"True_Ratio\"]\n",
    "a.iloc[:20]"
   ]
  }
 ],
 "metadata": {
  "kernelspec": {
   "display_name": "Python 3",
   "language": "python",
   "name": "python3"
  },
  "language_info": {
   "codemirror_mode": {
    "name": "ipython",
    "version": 3
   },
   "file_extension": ".py",
   "mimetype": "text/x-python",
   "name": "python",
   "nbconvert_exporter": "python",
   "pygments_lexer": "ipython3",
   "version": "3.6.6"
  }
 },
 "nbformat": 4,
 "nbformat_minor": 2
}
