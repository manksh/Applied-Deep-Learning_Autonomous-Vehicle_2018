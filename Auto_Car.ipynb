{
 "cells": [
  {
   "cell_type": "code",
   "execution_count": 1,
   "metadata": {},
   "outputs": [],
   "source": [
    "import tensorflow as tf\n",
    "from tensorflow import keras\n",
    "import PIL\n",
    "import os\n",
    "from PIL import Image\n",
    "from skimage.io import imread_collection\n",
    "import numpy as np\n",
    "import cv2\n",
    "from tqdm import tqdm\n",
    "import matplotlib.pyplot as plt\n",
    "import matplotlib.image as mpimg"
   ]
  },
  {
   "cell_type": "code",
   "execution_count": 2,
   "metadata": {},
   "outputs": [],
   "source": [
    "import pandas as pd\n",
    "import re"
   ]
  },
  {
   "cell_type": "code",
   "execution_count": 3,
   "metadata": {},
   "outputs": [],
   "source": [
    "from tensorflow.keras import models\n",
    "from tensorflow.keras import layers\n",
    "from tensorflow.keras.applications import VGG16"
   ]
  },
  {
   "cell_type": "code",
   "execution_count": 4,
   "metadata": {},
   "outputs": [],
   "source": [
    "def sorted_nicely(l):\n",
    "    \"\"\" Sorts the given iterable in the way that is expected.\n",
    " \n",
    "    Required arguments:\n",
    "    l -- The iterable to be sorted.\n",
    " \n",
    "    \"\"\"\n",
    "    convert = lambda text: int(text) if text.isdigit() else text\n",
    "    alphanum_key = lambda key: [convert(c) for c in re.split('([0-9]+)', key)]\n",
    "    return sorted(l, key = alphanum_key)"
   ]
  },
  {
   "cell_type": "code",
   "execution_count": 5,
   "metadata": {},
   "outputs": [],
   "source": [
    "def absSobelThresh(img, orient, thresh, sobelKernel = 19):\n",
    "    \n",
    "    threshMin=thresh[0]\n",
    "    threshMax=thresh[1]\n",
    "    gray = cv2.cvtColor(img, cv2.COLOR_RGB2GRAY)\n",
    "    if orient == 'x':\n",
    "        sobelOp = cv2.Sobel(gray, cv2.CV_64F, 1, 0, ksize=sobelKernel)\n",
    "    else:\n",
    "        sobelOp = cv2.Sobel(gray, cv2.CV_64F, 0, 1, ksize=sobelKernel)\n",
    "    absSobel = np.absolute(sobelOp)\n",
    "    scaledSobel = np.uint8(255*absSobel/np.max(absSobel))\n",
    "    sxbinary = np.zeros_like(scaledSobel)\n",
    "    sxbinary[(scaledSobel > threshMin) & (scaledSobel < threshMax)] = 1\n",
    "    binaryOutput = sxbinary \n",
    "    \n",
    "    return binaryOutput\n",
    "\n",
    "def combinedThreshBinaryImg(img, threshX, threshY, threshColorS, threshColorU, threshColorR):\n",
    "\n",
    "    hls = cv2.cvtColor(img, cv2.COLOR_BGR2HLS).astype(np.float)\n",
    "    rgb = cv2.cvtColor(img, cv2.COLOR_BGR2RGB).astype(np.float)\n",
    "    yuv = cv2.cvtColor(img, cv2.COLOR_BGR2YUV).astype(np.float)\n",
    "    L = hls[:,:,1]\n",
    "    S = hls[:,:,2]\n",
    "    R = rgb[:,:,0]\n",
    "    U = yuv[:,:,1]\n",
    "    sobelX = absSobelThresh(img, orient='x', thresh=(threshX[0], threshX[1]))\n",
    "    sobelY = absSobelThresh(img, orient='y', thresh=(threshY[0], threshY[1]))\n",
    "    sBinary = np.zeros_like(S)\n",
    "    sBinary[(S >= threshColorS[0]) & (S <= threshColorS[1])] = 1\n",
    "    rBinary = np.zeros_like(R)\n",
    "    rBinary[(R >= threshColorR[0]) & (R <= threshColorR[1])] = 1\n",
    "    uBinary = np.zeros_like(U)\n",
    "    uBinary[(U >= threshColorU[0]) & (U <= threshColorU[1])] = 1    \n",
    "    colorBinary = np.dstack(( rBinary, ((sobelX == 1) & (sobelY == 1)), uBinary ))\n",
    "    combinedBinary = np.zeros_like(sBinary)\n",
    "    combinedBinary[(rBinary == 1) | (uBinary == 1) | ((sobelX == 1) & (sobelY == 1))] = 1\n",
    "    \n",
    "    return combinedBinary"
   ]
  },
  {
   "cell_type": "code",
   "execution_count": 50,
   "metadata": {},
   "outputs": [],
   "source": [
    "def percentage_diff(y_actual, y_predicted):\n",
    "    \n",
    "    \"\"\"\n",
    "    :param y_actual: Actual Labels\n",
    "    :param y_predicted: Predicted Labels\n",
    "    :return: Dict with percentage differences\n",
    "    \n",
    "    \"\"\"\n",
    "        \n",
    "    f = np.array(abs(y_predicted - y_actual))/y_actual\n",
    "    data_dict = {'10% or lesser Difference':0 , '25% or lesser Difference': 0, \n",
    "                 '50% or lesser Difference': 0, '75% or lesser Difference': 0, \n",
    "                 'Greater than or Equal to 100%': 0}\n",
    "    for item in f:\n",
    "        if item <= 10:\n",
    "            data_dict['10% or lesser Difference'] += 1\n",
    "        elif item <= 25:\n",
    "            data_dict['25% or lesser Difference'] += 1\n",
    "        elif item <= 50:\n",
    "            data_dict['50% or lesser Difference'] += 1\n",
    "        elif item <= 75:\n",
    "            data_dict['75% or lesser Difference'] += 1\n",
    "        else:\n",
    "            data_dict['Greater than or Equal to 100%'] += 1\n",
    "            \n",
    "    return data_dict"
   ]
  },
  {
   "cell_type": "code",
   "execution_count": 6,
   "metadata": {},
   "outputs": [],
   "source": [
    "images=[]\n",
    "names=[]\n",
    "for files in sorted_nicely( os.listdir('training_images') ):\n",
    "    try:\n",
    "        mypath = os.path.join('training_images',files)\n",
    "        img=Image.open(mypath, mode='r')\n",
    "        img = img.resize((128,128))\n",
    "        arr = np.array(img).astype('uint8')\n",
    "        arr = combinedThreshBinaryImg(arr, threshX=(1, 255), \n",
    "                                                threshY=(50, 255), \n",
    "                                                threshColorS=(1,255), \n",
    "                                                threshColorU=(250,250), \n",
    "                                             threshColorR=(230,255))\n",
    "        images.append(arr)\n",
    "        img.close()\n",
    "    except:\n",
    "        pass"
   ]
  },
  {
   "cell_type": "code",
   "execution_count": 7,
   "metadata": {},
   "outputs": [],
   "source": [
    "speeds = pd.read_csv('train_wheel_speeds.csv')"
   ]
  },
  {
   "cell_type": "code",
   "execution_count": 8,
   "metadata": {},
   "outputs": [],
   "source": [
    "images = np.array(images)"
   ]
  },
  {
   "cell_type": "code",
   "execution_count": 9,
   "metadata": {},
   "outputs": [],
   "source": [
    "speeds = pd.read_csv('train_wheel_speeds.csv')"
   ]
  },
  {
   "cell_type": "code",
   "execution_count": 10,
   "metadata": {},
   "outputs": [],
   "source": [
    "mask = speeds['0'] & speeds['1'] == 0"
   ]
  },
  {
   "cell_type": "code",
   "execution_count": 11,
   "metadata": {},
   "outputs": [],
   "source": [
    "images = images[~mask]\n",
    "speeds = speeds[~mask]"
   ]
  },
  {
   "cell_type": "code",
   "execution_count": 12,
   "metadata": {},
   "outputs": [],
   "source": [
    "copymask = abs(speeds['0'] - speeds['1'])>= 20"
   ]
  },
  {
   "cell_type": "code",
   "execution_count": 13,
   "metadata": {},
   "outputs": [],
   "source": [
    "turns = images[copymask]\n",
    "turn_speeds = speeds[copymask]"
   ]
  },
  {
   "cell_type": "code",
   "execution_count": 14,
   "metadata": {},
   "outputs": [],
   "source": [
    "oversample_images = np.concatenate((np.concatenate((np.concatenate((images, turns)), turns)),turns))\n",
    "oversample_lables = pd.concat([speeds, turn_speeds,turn_speeds,turn_speeds ])"
   ]
  },
  {
   "cell_type": "code",
   "execution_count": 15,
   "metadata": {},
   "outputs": [],
   "source": [
    "oversample_lables['left-right'] = oversample_lables['0'] - oversample_lables['1']"
   ]
  },
  {
   "cell_type": "code",
   "execution_count": 16,
   "metadata": {},
   "outputs": [],
   "source": [
    "labels = np.array(oversample_lables['left-right'])"
   ]
  },
  {
   "cell_type": "code",
   "execution_count": 19,
   "metadata": {},
   "outputs": [],
   "source": [
    "X = oversample_images.reshape(X.shape[0],128, 128,1 )\n",
    "y = np.array(oversample_lables['left-right'])"
   ]
  },
  {
   "cell_type": "code",
   "execution_count": 32,
   "metadata": {},
   "outputs": [],
   "source": [
    "model = tf.keras.models.Sequential([\n",
    "    tf.keras.layers.Conv2D(32, kernel_size=(3, 3),activation='relu',input_shape=(128, 128, 1),padding='same'),\n",
    "    tf.keras.layers.Conv2D(32, kernel_size=(3, 3),activation='relu',input_shape=(128, 128, 1),padding='same'),\n",
    "    tf.keras.layers.MaxPooling2D(pool_size=(2, 2)),\n",
    "    tf.keras.layers.Conv2D(64, kernel_size=(3, 3), activation='relu',padding='same'),\n",
    "    tf.keras.layers.Conv2D(64, kernel_size=(3, 3), activation='relu',padding='same'),\n",
    "    tf.keras.layers.MaxPooling2D(pool_size=(2, 2)),\n",
    "    tf.keras.layers.Conv2D(64, kernel_size=(3, 3), activation='relu',padding='same'),\n",
    "    tf.keras.layers.Conv2D(32, kernel_size=(3, 3), activation='relu',padding='same'),\n",
    "    tf.keras.layers.MaxPooling2D(pool_size=(2, 2)),\n",
    "    tf.keras.layers.Flatten(),\n",
    "    tf.keras.layers.Dense(256, activation=tf.nn.relu),\n",
    "    tf.keras.layers.Dropout(0.2),\n",
    "    tf.keras.layers.Dense(128, activation=tf.nn.relu),\n",
    "    tf.keras.layers.Dropout(0.2),\n",
    "    tf.keras.layers.Dense(1)])\n",
    "\n",
    "model.compile(optimizer='adam',\n",
    "              loss='mean_squared_error',\n",
    "              metrics=['mse'])"
   ]
  },
  {
   "cell_type": "code",
   "execution_count": 33,
   "metadata": {
    "scrolled": true
   },
   "outputs": [
    {
     "name": "stdout",
     "output_type": "stream",
     "text": [
      "Train on 1459 samples, validate on 365 samples\n",
      "Epoch 1/25\n",
      "1459/1459 [==============================] - 6s 4ms/step - loss: 897.2399 - mean_squared_error: 897.2399 - val_loss: 662.2937 - val_mean_squared_error: 662.2937\n",
      "Epoch 2/25\n",
      "1459/1459 [==============================] - 4s 3ms/step - loss: 419.1143 - mean_squared_error: 419.1143 - val_loss: 354.7299 - val_mean_squared_error: 354.7299\n",
      "Epoch 3/25\n",
      "1459/1459 [==============================] - 4s 3ms/step - loss: 350.1494 - mean_squared_error: 350.1494 - val_loss: 336.6202 - val_mean_squared_error: 336.6202\n",
      "Epoch 4/25\n",
      "1459/1459 [==============================] - 4s 3ms/step - loss: 249.4507 - mean_squared_error: 249.4507 - val_loss: 220.8585 - val_mean_squared_error: 220.8585\n",
      "Epoch 5/25\n",
      "1459/1459 [==============================] - 4s 3ms/step - loss: 205.0744 - mean_squared_error: 205.0744 - val_loss: 142.2079 - val_mean_squared_error: 142.2079\n",
      "Epoch 6/25\n",
      "1459/1459 [==============================] - 4s 3ms/step - loss: 156.7038 - mean_squared_error: 156.7038 - val_loss: 155.5858 - val_mean_squared_error: 155.5858\n",
      "Epoch 7/25\n",
      "1459/1459 [==============================] - 4s 3ms/step - loss: 168.9115 - mean_squared_error: 168.9115 - val_loss: 207.8830 - val_mean_squared_error: 207.8830\n",
      "Epoch 8/25\n",
      "1459/1459 [==============================] - 4s 3ms/step - loss: 125.4985 - mean_squared_error: 125.4985 - val_loss: 91.4466 - val_mean_squared_error: 91.4466\n",
      "Epoch 9/25\n",
      "1459/1459 [==============================] - 4s 3ms/step - loss: 108.1909 - mean_squared_error: 108.1909 - val_loss: 88.1145 - val_mean_squared_error: 88.1145\n",
      "Epoch 10/25\n",
      "1459/1459 [==============================] - 4s 3ms/step - loss: 100.8503 - mean_squared_error: 100.8503 - val_loss: 90.4193 - val_mean_squared_error: 90.4193\n",
      "Epoch 11/25\n",
      "1459/1459 [==============================] - 4s 3ms/step - loss: 105.1170 - mean_squared_error: 105.1170 - val_loss: 77.5803 - val_mean_squared_error: 77.5803\n",
      "Epoch 12/25\n",
      "1459/1459 [==============================] - 4s 3ms/step - loss: 109.2846 - mean_squared_error: 109.2846 - val_loss: 285.0359 - val_mean_squared_error: 285.0359\n",
      "Epoch 13/25\n",
      "1459/1459 [==============================] - 4s 3ms/step - loss: 102.7924 - mean_squared_error: 102.7924 - val_loss: 90.6054 - val_mean_squared_error: 90.6054\n",
      "Epoch 14/25\n",
      "1459/1459 [==============================] - 4s 3ms/step - loss: 76.2035 - mean_squared_error: 76.2035 - val_loss: 43.4363 - val_mean_squared_error: 43.4363\n",
      "Epoch 15/25\n",
      "1459/1459 [==============================] - 4s 3ms/step - loss: 61.6219 - mean_squared_error: 61.6219 - val_loss: 31.9313 - val_mean_squared_error: 31.9313\n",
      "Epoch 16/25\n",
      "1459/1459 [==============================] - 4s 3ms/step - loss: 57.0846 - mean_squared_error: 57.0846 - val_loss: 33.9181 - val_mean_squared_error: 33.9181\n",
      "Epoch 17/25\n",
      "1459/1459 [==============================] - 4s 3ms/step - loss: 61.0757 - mean_squared_error: 61.0757 - val_loss: 50.1116 - val_mean_squared_error: 50.1116\n",
      "Epoch 18/25\n",
      "1459/1459 [==============================] - 4s 3ms/step - loss: 62.5548 - mean_squared_error: 62.5548 - val_loss: 71.7488 - val_mean_squared_error: 71.7488\n",
      "Epoch 19/25\n",
      "1459/1459 [==============================] - 4s 3ms/step - loss: 63.8662 - mean_squared_error: 63.8662 - val_loss: 39.5354 - val_mean_squared_error: 39.5354\n",
      "Epoch 20/25\n",
      "1459/1459 [==============================] - 4s 3ms/step - loss: 57.3179 - mean_squared_error: 57.3179 - val_loss: 30.1886 - val_mean_squared_error: 30.1886\n",
      "Epoch 21/25\n",
      "1459/1459 [==============================] - 4s 3ms/step - loss: 56.6671 - mean_squared_error: 56.6671 - val_loss: 37.3593 - val_mean_squared_error: 37.3593\n",
      "Epoch 22/25\n",
      "1459/1459 [==============================] - 4s 3ms/step - loss: 50.2871 - mean_squared_error: 50.2871 - val_loss: 36.9980 - val_mean_squared_error: 36.9980\n",
      "Epoch 23/25\n",
      "1459/1459 [==============================] - 4s 3ms/step - loss: 45.5290 - mean_squared_error: 45.5290 - val_loss: 72.6029 - val_mean_squared_error: 72.6029\n",
      "Epoch 24/25\n",
      "1459/1459 [==============================] - 4s 3ms/step - loss: 53.5753 - mean_squared_error: 53.5753 - val_loss: 61.8334 - val_mean_squared_error: 61.8334\n",
      "Epoch 25/25\n",
      "1459/1459 [==============================] - 4s 3ms/step - loss: 49.8575 - mean_squared_error: 49.8575 - val_loss: 37.6590 - val_mean_squared_error: 37.6590\n"
     ]
    }
   ],
   "source": [
    "history = model.fit(X, y, epochs=25, batch_size = 32, validation_split = 0.2)"
   ]
  },
  {
   "cell_type": "code",
   "execution_count": 38,
   "metadata": {},
   "outputs": [
    {
     "data": {
      "text/plain": [
       "[<matplotlib.lines.Line2D at 0x7f590b007358>]"
      ]
     },
     "execution_count": 38,
     "metadata": {},
     "output_type": "execute_result"
    },
    {
     "data": {
      "image/png": "[encoded data removed]",
      "text/plain": [
       "<Figure size 432x288 with 1 Axes>"
      ]
     },
     "metadata": {
      "needs_background": "light"
     },
     "output_type": "display_data"
    }
   ],
   "source": [
    "plt.plot(history.history['val_loss'])\n",
    "plt.plot(history.history['loss'])"
   ]
  },
  {
   "cell_type": "code",
   "execution_count": 48,
   "metadata": {},
   "outputs": [],
   "source": [
    "predictions = model.predict(X).ravel()"
   ]
  },
  {
   "cell_type": "code",
   "execution_count": 42,
   "metadata": {},
   "outputs": [],
   "source": [
    "tss = np.sum(np.square(y - np.mean(y)))"
   ]
  },
  {
   "cell_type": "code",
   "execution_count": 43,
   "metadata": {},
   "outputs": [
    {
     "name": "stdout",
     "output_type": "stream",
     "text": [
      "Neural Network Train R squared: 0.9736680839780116\n"
     ]
    }
   ],
   "source": [
    "print('Neural Network Train R squared:', 1 - (history.history['loss'][-1]*X.shape[0]/tss))"
   ]
  },
  {
   "cell_type": "code",
   "execution_count": 44,
   "metadata": {},
   "outputs": [],
   "source": []
  },
  {
   "cell_type": "code",
   "execution_count": null,
   "metadata": {},
   "outputs": [],
   "source": []
  }
 ],
 "metadata": {
  "kernelspec": {
   "display_name": "Python 3",
   "language": "python",
   "name": "python3"
  },
  "language_info": {
   "codemirror_mode": {
    "name": "ipython",
    "version": 3
   },
   "file_extension": ".py",
   "mimetype": "text/x-python",
   "name": "python",
   "nbconvert_exporter": "python",
   "pygments_lexer": "ipython3",
   "version": "3.6.6"
  }
 },
 "nbformat": 4,
 "nbformat_minor": 2
}
